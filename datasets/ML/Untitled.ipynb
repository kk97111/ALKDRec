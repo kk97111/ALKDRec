{
 "cells": [
  {
   "cell_type": "code",
   "execution_count": 8,
   "id": "dbe15aea-43fb-42d6-b286-1f39df169c74",
   "metadata": {},
   "outputs": [],
   "source": [
    "import pandas as pd\n",
    "df = pd.read_pickle('./%s.pkl.bk'%'ML')\n"
   ]
  },
  {
   "cell_type": "code",
   "execution_count": 9,
   "id": "86cb5578-85c4-4bfd-8045-604a3e49e198",
   "metadata": {},
   "outputs": [],
   "source": [
    "ratio = [0.6,0.2,0.2]\n",
    "size = len(df)\n",
    "n1,n2 =  int(size * ratio[0]), int(size *(ratio[0]+ratio[1]))"
   ]
  },
  {
   "cell_type": "code",
   "execution_count": null,
   "id": "c47aaf91-1488-46a7-a883-e896346291f0",
   "metadata": {},
   "outputs": [],
   "source": []
  }
 ],
 "metadata": {
  "kernelspec": {
   "display_name": "Python 3 (ipykernel)",
   "language": "python",
   "name": "python3"
  },
  "language_info": {
   "codemirror_mode": {
    "name": "ipython",
    "version": 3
   },
   "file_extension": ".py",
   "mimetype": "text/x-python",
   "name": "python",
   "nbconvert_exporter": "python",
   "pygments_lexer": "ipython3",
   "version": "3.8.18"
  }
 },
 "nbformat": 4,
 "nbformat_minor": 5
}
