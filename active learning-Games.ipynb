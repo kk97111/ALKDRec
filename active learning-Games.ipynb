{
 "cells": [
  {
   "cell_type": "code",
   "execution_count": 1,
   "id": "114385f0-219b-4c6c-8063-2a71576fa508",
   "metadata": {},
   "outputs": [],
   "source": [
    "import openai\n",
    "openai.api_key = 'Your key'\n",
    "ablation = 'random'#['ALKERec','RAD-BC','random','easiest','hardest']"
   ]
  },
  {
   "cell_type": "code",
   "execution_count": 2,
   "id": "dd20f5d7-2792-4b3b-9851-3dcf1ab23715",
   "metadata": {},
   "outputs": [],
   "source": [
    "import argparse\n",
    "import numpy as np\n",
    "from utils.dataset import Dataset,DataIterator,get_DataLoader_few_shot\n",
    "\n",
    "def parse_args(name):   \n",
    "    parser = argparse.ArgumentParser(description=\"Run .\")  \n",
    "    parser.add_argument('--dataset', nargs='?', default=name,\n",
    "                        help='Choose a dataset.')\n",
    "    parser.add_argument('--hidden_factor', type=int, default=10,\n",
    "                        help='Number of hidden factors.')\n",
    "    parser.add_argument('--lr', type=float, default=0.001,\n",
    "                        help='Learning rate.')    \n",
    "    return parser.parse_args(args=[])"
   ]
  },
  {
   "cell_type": "code",
   "execution_count": 3,
   "id": "30b1cd05-a083-4985-9105-6fcc1b6bb91e",
   "metadata": {},
   "outputs": [
    {
     "name": "stdout",
     "output_type": "stream",
     "text": [
      "loading data: meta_data\n",
      "\n",
      "loading data: interaction_data\n",
      "\n",
      "split data\n",
      "\n"
     ]
    }
   ],
   "source": [
    "args = parse_args('Games')\n",
    "data = Dataset(args)\n",
    "    "
   ]
  },
  {
   "cell_type": "code",
   "execution_count": 4,
   "id": "550fd5c6-0ced-4898-af34-d2e7911e659b",
   "metadata": {},
   "outputs": [],
   "source": [
    "class Database_LLM(object):\n",
    "    def __init__(self,path):\n",
    "        #|session_id|rec_result|hint_position|\n",
    "        self.dir = path\n",
    "        self.exist_sessions()\n",
    "    def exist_sessions(self):\n",
    "        # 计算文件的行数\n",
    "        self.exist_session = set()\n",
    "        with open(self.dir, 'r', encoding='utf-8') as file:\n",
    "            for line in file:\n",
    "                session_id,rec_result,hint_position =line.split('\\t')\n",
    "                self.exist_session.add(int(session_id))\n",
    "    def write(self,session_id,rec_result,hint_position):\n",
    "        with open(self.dir,'a') as f:\n",
    "            f.write(\"%d\\t%s\\t%d\\n\"%(session_id,str(rec_result),hint_position))\n",
    "        self.exist_sessions()\n",
    "    def get_all_dict(self):\n",
    "        table_rec = dict()\n",
    "        table_hit = dict()\n",
    "        with open(self.dir, 'r', encoding='utf-8') as file:\n",
    "            for line in file:\n",
    "                session_id,rec_result,hint_position =line.split('\\t')\n",
    "                table_rec[int(session_id)] = eval(rec_result)\n",
    "                table_hit[int(session_id)] = eval(hint_position[:-1])\n",
    "        return table_rec,table_hit\n",
    "    def write_sub_database(self,sub_dir,session_id):\n",
    "        with open(sub_dir,'a') as f:\n",
    "            f.write(\"%d\\n\"%session_id)\n",
    "    def read_sub_database(self,sub_dir):\n",
    "        r = set()\n",
    "        with open(sub_dir) as f:\n",
    "            for line in f:\n",
    "                r.add(int(line[:-1]))\n",
    "        return r"
   ]
  },
  {
   "cell_type": "code",
   "execution_count": 5,
   "id": "725e6f4f-d607-4380-98bd-09f40fc286dc",
   "metadata": {},
   "outputs": [],
   "source": [
    "path = './datasets/%s/%s_LLM_Database.data'%(args.dataset,args.dataset)\n",
    "# path_initial = './datasets/%s_LLM_initial_session.data'%args.dataset\n",
    "database = Database_LLM(path)"
   ]
  },
  {
   "cell_type": "code",
   "execution_count": 6,
   "id": "73470d00-5f45-40ae-840b-a57ea828c5a6",
   "metadata": {},
   "outputs": [],
   "source": [
    "import pandas as pd\n",
    "df = pd.read_pickle('./datasets/%s/%s_prediction.pkl'%(args.dataset,args.dataset))"
   ]
  },
  {
   "cell_type": "code",
   "execution_count": 7,
   "id": "6ae08a32-d995-4570-a01b-a1d6976e5a70",
   "metadata": {},
   "outputs": [],
   "source": [
    "#确保target item在candidate set中\n",
    "A = 'target'\n",
    "B = 'student_top_item_'\n",
    "C = 'teacher_top_item'\n",
    "df[B] = df.apply(lambda row: np.array(row[B][:-1].tolist() + [row[A]]) if row[A] not in row[B] else row[B], axis=1)\n",
    "df[C] = df.apply(lambda row: np.array(row[C][:-1].tolist() + [row[A]]) if row[A] not in row[C] else row[C], axis=1)\n",
    "# args.batch_size"
   ]
  },
  {
   "cell_type": "code",
   "execution_count": null,
   "id": "16da9035-1381-413a-93c2-9052bedcf6a9",
   "metadata": {},
   "outputs": [],
   "source": []
  },
  {
   "cell_type": "code",
   "execution_count": 8,
   "id": "c999e6fc-3683-41ce-8dc7-2773023604e7",
   "metadata": {},
   "outputs": [
    {
     "name": "stdout",
     "output_type": "stream",
     "text": [
      "5348\n"
     ]
    },
    {
     "name": "stderr",
     "output_type": "stream",
     "text": [
      "/tmp/ipykernel_3731621/2179324063.py:4: SettingWithCopyWarning: \n",
      "A value is trying to be set on a copy of a slice from a DataFrame.\n",
      "Try using .loc[row_indexer,col_indexer] = value instead\n",
      "\n",
      "See the caveats in the documentation: https://pandas.pydata.org/pandas-docs/stable/user_guide/indexing.html#returning-a-view-versus-a-copy\n",
      "  sub_df['LLM_pred'] = [table_rec[session_id] for session_id in sub_df.session_id]\n",
      "/tmp/ipykernel_3731621/2179324063.py:5: SettingWithCopyWarning: \n",
      "A value is trying to be set on a copy of a slice from a DataFrame.\n",
      "Try using .loc[row_indexer,col_indexer] = value instead\n",
      "\n",
      "See the caveats in the documentation: https://pandas.pydata.org/pandas-docs/stable/user_guide/indexing.html#returning-a-view-versus-a-copy\n",
      "  sub_df['LLM_hit'] = [table_hit[session_id] for session_id in sub_df.session_id]\n"
     ]
    }
   ],
   "source": [
    "#constrcut sub_df where sub_df \n",
    "sub_df = df[df['session_id'].isin(database.exist_session)]\n",
    "table_rec,table_hit = database.get_all_dict()\n",
    "sub_df['LLM_pred'] = [table_rec[session_id] for session_id in sub_df.session_id]\n",
    "sub_df['LLM_hit'] = [table_hit[session_id] for session_id in sub_df.session_id]\n",
    "print(len(sub_df))\n",
    "\n"
   ]
  },
  {
   "cell_type": "code",
   "execution_count": 9,
   "id": "a1323008-01c5-4670-aaae-c7e7c48ba9dc",
   "metadata": {},
   "outputs": [],
   "source": [
    "\n",
    "#ChatGPT zero shot performance\n",
    "import os\n",
    "import time\n",
    "import numpy as np\n",
    "import re\n",
    "\n",
    "\n",
    "class Prompt_class(object):\n",
    "    def __init__(self,train_df,data):\n",
    "        self.train_df = train_df\n",
    "        self.data = data\n",
    "    def ids2names(self,ids):\n",
    "        r = '{'\n",
    "        for item in ids:\n",
    "            r = r + '<ID_%d:'%item+str(self.data.id2title[item])+'>, '\n",
    "        r = r[:-2] + '}'\n",
    "        return r\n",
    "    def generate_prompt(self,idx):\n",
    "        df_idx = self.train_df[self.train_df['session_id']==idx].iloc[0]\n",
    "        candiate = set(df_idx['teacher_top_item'])\n",
    "        if df_idx['target'] not in candiate:\n",
    "            candiate.pop()\n",
    "            candiate.add(df_idx['target'])\n",
    "        feature = set(df_idx['feature'] )\n",
    "        p1 = 'You are an AI recommender system, please make accurate recommendation to the user according to his/her behaviors. '\n",
    "        h1 = 'There are some hints for recommendation:' #Notice user may prefer the similar and same series items. Do not focus on diversity.'\n",
    "        h11 = \"Platform and Accessory Compatibility: The system heavily factors in the user's current gaming platform, consistently recommending games and accessories that are compatible with it.\"\n",
    "        h12 = \"Series and Genre Loyalty: Users are frequently recommended titles from game series they have previously engaged with, as well as games within the same or similar genres.\"\n",
    "        h13 = \"Special Editions and Bundles: The system often suggests special or collector's editions of games and bundled offers, thereby potentially increasing their investment and engagement.\"\n",
    "        h14 = \"In disregard of diversity in game genres or series. For example, Although the user already owns the game, there would still be interest in same game, e.g., its the special version.\"\n",
    "        p2 = 'The users has bought %d video games, whose titles are namely %s.'%(len(feature),self.ids2names(feature))\n",
    "        p3 = 'Based on these interactions, recommend a ranking list of items for the user from a candidate set: {%s}. '%self.ids2names(candiate)\n",
    "        p4 = 'Specifically,  ranking ALL these candidate items and provide EXACTLY 25 items for recommendations, where item in the top position indicates the higher recommendation intent.'\n",
    "        p5 = 'Just output WITHOUT ANY OHTER MESSAGE: [<ID1>,...,<ID25>], where with <ID?> surrounding JUST the ID WITHOUT title and split all IDs with comma.'\n",
    "        Prompt = p1 + h1 + h11 +h12 + h13 + h14 + p2 + p3 + p4 + p5\n",
    "        # print(Prompt)\n",
    "        # print('\\n\\n\\n')\n",
    "        # print('Groud Truth:%s'%self.ids2names([df_idx['target']]))\n",
    "        return Prompt,df_idx['target']\n",
    "    def get_completion(self, prompt, model=\"gpt-4\"):\n",
    "        messages = [{\"role\": \"assistant\", \"content\": prompt}]\n",
    "        response = openai.ChatCompletion.create(\n",
    "        model=model,\n",
    "        messages=messages,\n",
    "        temperature=0\n",
    "        )\n",
    "        return response.choices[0].message[\"content\"]\n",
    "    def response2list(self,response):\n",
    "        return [int(ids) for ids in re.findall(r'ID_(\\d+)', response)]"
   ]
  },
  {
   "cell_type": "code",
   "execution_count": 10,
   "id": "87992e57-3606-4b17-8d11-f31aa91b7f67",
   "metadata": {},
   "outputs": [],
   "source": [
    "promp_generator = Prompt_class(df,data)"
   ]
  },
  {
   "cell_type": "code",
   "execution_count": 11,
   "id": "f973cdc4-8890-4a1b-a52b-fdfa6fe86cb5",
   "metadata": {},
   "outputs": [],
   "source": [
    "def MAXMIN_vanilla(N,k=0.6,distribution='exp'):\n",
    "    if distribution == 'exp':\n",
    "        alpha = 10\n",
    "        g = np.array([float(i) for i in range(1,N+1)])**(-alpha)\n",
    "    l = 0.5 * g\n",
    "    gk = g/(g+l)\n",
    "    G=np.cumsum(gk)\n",
    "    hk = 1/(g+l)\n",
    "    H=np.cumsum(hk)\n",
    "    k_max = (G + len(g)*(k-1))/H\n",
    "    k_star = np.argmax(k_max)\n",
    "    p = 1/(g+l)\n",
    "    p[k_star:] = 0\n",
    "    p = p / np.sum(p)\n",
    "    return p,k_star"
   ]
  },
  {
   "cell_type": "code",
   "execution_count": 12,
   "id": "653a0033-f87f-45b9-8311-2b11c96607df",
   "metadata": {},
   "outputs": [],
   "source": [
    "def MAXMIN(N,k1=0.1,k2=0.5,distribution='exp',g=None):\n",
    "    if distribution == 'exp':\n",
    "        alpha = 10\n",
    "        g = np.array([float(i) for i in range(1,N+1)])**(-alpha)\n",
    "    if distribution == 'self-define': \n",
    "        g = g\n",
    "    l = 0.5 * g\n",
    "    f = 0.5 * g\n",
    "    gk = f/(f+l)\n",
    "    gk[int(N*(1-k1)):] = (g/(g+l))[int(N*(1-k1)):] \n",
    "    G=np.cumsum(gk)\n",
    "    hk = 1/(f+l)\n",
    "    hk[int(N*(1-k1)):] = (1/(g+l))[int(N*(1-k1)):] \n",
    "    H=np.cumsum(hk)\n",
    "    k_max = (G + len(g)*(k1+k2-1))/H\n",
    "    k_star = np.argmax(k_max)\n",
    "    p = 1/(f+l)\n",
    "    p[int((1-k1)*N):k_star] = (1/(g+l))[int((1-k1)*N):k_star]\n",
    "    p[k_star:] = 0\n",
    "    p = p / np.sum(p)\n",
    "    return p,k_star"
   ]
  },
  {
   "cell_type": "code",
   "execution_count": 13,
   "id": "c60f3ff7-b646-43c4-8bb1-673ddda2e27b",
   "metadata": {},
   "outputs": [],
   "source": [
    "def active_learn_ours(sub_df):\n",
    "    #从50个random出来的sample里面选择10个in-distribution的sample；\n",
    "    N = len(sub_df)\n",
    "    probabilities,k_star = MAXMIN(N)\n",
    "    print([N,k_star])\n",
    "    elements = np.arange(N)\n",
    "    sample_index = np.random.choice(elements, size=1, p=probabilities,replace=False)[0]\n",
    "    select_line = sub_df.iloc[sample_index]\n",
    "    sub_df = sub_df.drop(sub_df.index[sample_index])\n",
    "    return sub_df, select_line\n",
    "def active_learn_vanilla(sub_df):\n",
    "    #从50个random出来的sample里面选择10个in-distribution的sample；\n",
    "    N = len(sub_df)\n",
    "    probabilities,k_star = MAXMIN_vanilla(N)\n",
    "    print([N,k_star])\n",
    "    elements = np.arange(N)\n",
    "    sample_index = np.random.choice(elements, size=1, p=probabilities,replace=False)[0]\n",
    "    select_line = sub_df.iloc[sample_index]\n",
    "    sub_df = sub_df.drop(sub_df.index[sample_index])\n",
    "    return sub_df, select_line\n",
    "def active_learn_random(sub_df):\n",
    "    #从50个random出来的sample里面选择10个in-distribution的sample；\n",
    "    select_line = sub_df.sample(1)\n",
    "    index = select_line.index\n",
    "    select_line = select_line.iloc[0]\n",
    "    sub_df = sub_df.drop(index)\n",
    "    return sub_df, select_line\n",
    "def active_learn_easiest(sub_df):\n",
    "    #\n",
    "    sampled_df = sub_df\n",
    "    max_index = sampled_df['difference'].idxmax()\n",
    "    select_line = sampled_df.loc[max_index]\n",
    "    sub_df = sub_df.drop(max_index)\n",
    "    return sub_df, select_line\n",
    "def active_learn_hardest(sub_df):\n",
    "    #\n",
    "    sampled_df = sub_df\n",
    "    max_index = sampled_df['difference'].idxmin()\n",
    "    select_line = sampled_df.loc[max_index]\n",
    "    sub_df = sub_df.drop(max_index)\n",
    "    return sub_df, select_line"
   ]
  },
  {
   "cell_type": "code",
   "execution_count": 14,
   "id": "58019b0b-51ed-4d58-bf20-0a1dec4d6d8b",
   "metadata": {},
   "outputs": [
    {
     "name": "stdout",
     "output_type": "stream",
     "text": [
      "existing\n",
      "existing\n",
      "[<ID_23854>,<ID_11854>,<ID_13654>,<ID_8124>,<ID_17440>,<ID_10803>,<ID_19472>,<ID_20995>,<ID_5616>,<ID_15962>,<ID_18098>,<ID_7012>,<ID_10087>,<ID_3056>,<ID_6737>,<ID_10313>,<ID_8243>,<ID_9307>,<ID_20819>,<ID_23346>,<ID_22290>,<ID_2874>,<ID_5249>,<ID_7252>,<ID_7012>]\n",
      "session:10395,teacher_position:0,student_position:223,HIT:1\n",
      "existing\n",
      "[<ID_5424>,<ID_7380>,<ID_24793>,<ID_24913>,<ID_22102>,<ID_18288>,<ID_17265>,<ID_19895>,<ID_23355>,<ID_25893>,<ID_20384>,<ID_23533>,<ID_24053>,<ID_19482>,<ID_24971>,<ID_24198>,<ID_26087>,<ID_24601>,<ID_10612>,<ID_19874>,<ID_21103>,<ID_19043>,<ID_18288>,<ID_22008>,<ID_12666>]\n",
      "session:1560,teacher_position:0,student_position:12,HIT:0\n",
      "existing\n",
      "[<ID_9296>,<ID_21681>,<ID_26044>,<ID_18582>,<ID_11807>,<ID_24844>,<ID_2179>,<ID_22661>,<ID_22660>,<ID_24962>,<ID_16258>,<ID_14464>,<ID_17169>,<ID_14375>,<ID_14243>,<ID_14522>,<ID_13376>,<ID_6315>,<ID_14156>,<ID_21206>,<ID_25027>,<ID_20426>,<ID_20734>,<ID_2037>,<ID_17390>]\n",
      "session:1395,teacher_position:0,student_position:248,HIT:0\n",
      "[<ID_19286>, <ID_26024>, <ID_24481>, <ID_25290>, <ID_26023>, <ID_22116>, <ID_23021>, <ID_19706>, <ID_20087>, <ID_26077>, <ID_25839>, <ID_18750>, <ID_21258>, <ID_24646>, <ID_23826>, <ID_12639>, <ID_17128>, <ID_24678>, <ID_25660>, <ID_23596>, <ID_15790>, <ID_10774>, <ID_10415>, <ID_25271>, <ID_22598>]\n",
      "session:170,teacher_position:0,student_position:19,HIT:4\n",
      "[<ID_3268>,<ID_5444>,<ID_20816>,<ID_3254>,<ID_8172>,<ID_17570>,<ID_6828>,<ID_9837>,<ID_16756>,<ID_18699>,<ID_22129>,<ID_17501>,<ID_16848>,<ID_21609>,<ID_23782>,<ID_23659>,<ID_7204>,<ID_6821>,<ID_10440>,<ID_19201>,<ID_18049>,<ID_7314>,<ID_16773>,<ID_19719>,<ID_25569>]\n",
      "session:2057,teacher_position:0,student_position:114,HIT:0\n",
      "existing\n",
      "[<ID_17573>, <ID_15985>, <ID_18731>, <ID_10642>, <ID_18910>, <ID_15958>, <ID_16860>, <ID_15953>, <ID_16263>, <ID_13732>, <ID_16384>, <ID_12554>, <ID_15219>, <ID_21915>, <ID_7592>, <ID_4384>, <ID_19701>, <ID_15792>, <ID_15916>, <ID_15978>, <ID_21484>, <ID_18896>, <ID_23633>, <ID_24140>, <ID_25319>]\n",
      "session:10539,teacher_position:0,student_position:54,HIT:1\n",
      "existing\n",
      "[<ID_24224>,<ID_14623>,<ID_24458>,<ID_25397>,<ID_16027>,<ID_16811>,<ID_15810>,<ID_19691>,<ID_21619>,<ID_16602>,<ID_20712>,<ID_21214>,<ID_22388>,<ID_25797>,<ID_19047>,<ID_15625>,<ID_11067>,<ID_21386>,<ID_25873>,<ID_16333>,<ID_24801>,<ID_11499>,<ID_11248>,<ID_6515>,<ID_9721>]\n",
      "session:11660,teacher_position:0,student_position:7,HIT:0\n",
      "[<ID_23938>,<ID_21270>,<ID_21274>,<ID_22939>,<ID_23450>,<ID_22320>,<ID_22322>,<ID_22732>,<ID_22118>,<ID_22382>,<ID_21107>,<ID_22005>,<ID_21371>,<ID_22253>,<ID_22254>,<ID_23337>,<ID_22944>,<ID_21608>,<ID_14574>,<ID_8410>,<ID_21718>,<ID_24169>,<ID_22041>,<ID_23971>,<ID_19208>]\n",
      "session:9935,teacher_position:0,student_position:9,HIT:0\n",
      "[<ID_19294>,<ID_16631>,<ID_12544>,<ID_16313>,<ID_12331>,<ID_22328>,<ID_12615>,<ID_10180>,<ID_19264>,<ID_23706>,<ID_18589>,<ID_11961>,<ID_2619>,<ID_10906>,<ID_17052>,<ID_13267>,<ID_11638>,<ID_18300>,<ID_10330>,<ID_21592>,<ID_21364>,<ID_5835>,<ID_3949>,<ID_3791>,<ID_5097>]\n",
      "session:2466,teacher_position:0,student_position:64,HIT:18\n",
      "[<ID_13702>,<ID_9737>,<ID_11526>,<ID_6031>,<ID_12308>,<ID_8412>,<ID_20420>,<ID_14662>,<ID_14309>,<ID_13984>,<ID_16225>,<ID_23312>,<ID_22057>,<ID_22319>,<ID_11063>,<ID_21158>,<ID_12639>,<ID_25843>,<ID_21366>,<ID_18730>,<ID_19292>,<ID_14570>,<ID_17639>,<ID_13905>,<ID_24043>]\n",
      "session:3875,teacher_position:0,student_position:15,HIT:4\n",
      "existing\n",
      "existing\n",
      "existing\n",
      "[<ID_23701>,<ID_23457>,<ID_22446>,<ID_23375>,<ID_24840>,<ID_24213>,<ID_24751>,<ID_25888>,<ID_25464>,<ID_20329>,<ID_22575>,<ID_15315>,<ID_21301>,<ID_26041>,<ID_25147>,<ID_25035>,<ID_25153>,<ID_17224>,<ID_25941>,<ID_17634>,<ID_18798>,<ID_16567>,<ID_21352>,<ID_23657>,<ID_20056>]\n",
      "session:9665,teacher_position:0,student_position:31,HIT:3\n",
      "一个instance的运行时间：5.324412692676891秒\n"
     ]
    }
   ],
   "source": [
    "import time\n",
    "\n",
    "# 开始计时\n",
    "start_time = time.time()\n",
    "\n",
    "\n",
    "\n",
    "\n",
    "if 'ALKERec' in ablation:\n",
    "    select_method = active_learn_ours\n",
    "    df = df.sort_values('difference')\n",
    "if 'RAD-BC' in ablation:\n",
    "    select_method = active_learn_vanilla\n",
    "    df = df.sort_values('difference')\n",
    "if ablation == 'random':\n",
    "    select_method = active_learn_random\n",
    "if ablation == 'easiest':\n",
    "    select_method = active_learn_easiest\n",
    "if ablation == 'hardest':\n",
    "    select_method = active_learn_hardest\n",
    "# ablation_sessions = set()\n",
    "ablation_sessions = database.read_sub_database('./datasets/%s/%s_%s.base'%(args.dataset,args.dataset,ablation))\n",
    "\n",
    "df = df[~df['session_id'].isin(ablation_sessions)]\n",
    "\n",
    "n = 0\n",
    "for i in range(20):\n",
    "    df, select_line = select_method(df)\n",
    "    session_idx = select_line.session_id\n",
    "    if session_idx in database.exist_session:\n",
    "        #如果已经预测过了，只需记录一下就可以；\n",
    "        database.write_sub_database('./datasets/%s/%s_%s.base'%(args.dataset,args.dataset,ablation),session_idx)\n",
    "        print(\"existing\")\n",
    "    else:\n",
    "        n += 1\n",
    "        #如果没预测过\n",
    "        #构建prompt\n",
    "        p,gt = promp_generator.generate_prompt(session_idx)\n",
    "        #基于ChatGPT生成结果\n",
    "        response = promp_generator.get_completion(p,model='gpt-4-turbo-2024-04-09')\n",
    "        print(response)\n",
    "        #转化成top5推荐\n",
    "        top_results = promp_generator.response2list(response)\n",
    "        #输出结果：\n",
    "        try:\n",
    "            position = top_results.index(gt)\n",
    "        except:\n",
    "            position = 25\n",
    "            \n",
    "        print('session:%d,teacher_position:%d,student_position:%d,HIT:%d'%(session_idx,select_line.teacher_position,select_line.student_position,position))\n",
    "        #写入大库：\n",
    "        database.write(session_idx,top_results,position)        \n",
    "        #写入ablation库\n",
    "        database.write_sub_database('./datasets/%s/%s_%s.base'%(args.dataset,args.dataset,ablation),session_idx)\n",
    "# 结束计时\n",
    "end_time = time.time()\n",
    "# 计算运行时间\n",
    "elapsed_time = end_time - start_time\n",
    "print(f\"一个instance的运行时间：{elapsed_time/n}秒\")\n"
   ]
  },
  {
   "cell_type": "code",
   "execution_count": 18,
   "id": "ce91da37-55e5-4867-9f2b-27d75662f1ea",
   "metadata": {},
   "outputs": [
    {
     "data": {
      "text/plain": [
       "44.37010577230742"
      ]
     },
     "execution_count": 18,
     "metadata": {},
     "output_type": "execute_result"
    }
   ],
   "source": [
    "5.324412692676891*500/60"
   ]
  },
  {
   "cell_type": "code",
   "execution_count": 19,
   "id": "4228dcf4-cd92-45e2-be08-21893c7f07d4",
   "metadata": {},
   "outputs": [
    {
     "data": {
      "text/plain": [
       "1782.8795901428568"
      ]
     },
     "execution_count": 19,
     "metadata": {},
     "output_type": "execute_result"
    }
   ],
   "source": [
    "5.324412692676891*20091/60"
   ]
  },
  {
   "cell_type": "code",
   "execution_count": 23,
   "id": "6f63de6e-d46d-48f6-b91e-5f7c2c936c76",
   "metadata": {},
   "outputs": [
    {
     "data": {
      "text/plain": [
       "347.0263636363636"
      ]
     },
     "execution_count": 23,
     "metadata": {},
     "output_type": "execute_result"
    }
   ],
   "source": [
    "0.19/n *20091"
   ]
  },
  {
   "cell_type": "code",
   "execution_count": null,
   "id": "099009e4-da31-4697-baa5-dd570b2edb6a",
   "metadata": {},
   "outputs": [],
   "source": []
  }
 ],
 "metadata": {
  "kernelspec": {
   "display_name": "Python 3 (ipykernel)",
   "language": "python",
   "name": "python3"
  },
  "language_info": {
   "codemirror_mode": {
    "name": "ipython",
    "version": 3
   },
   "file_extension": ".py",
   "mimetype": "text/x-python",
   "name": "python",
   "nbconvert_exporter": "python",
   "pygments_lexer": "ipython3",
   "version": "3.8.18"
  }
 },
 "nbformat": 4,
 "nbformat_minor": 5
}
