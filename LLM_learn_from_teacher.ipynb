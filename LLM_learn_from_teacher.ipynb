{
 "cells": [
  {
   "cell_type": "code",
   "execution_count": 1,
   "id": "cad1eb8d-e706-4e29-8d37-761c4ab76df9",
   "metadata": {},
   "outputs": [],
   "source": [
    "import argparse\n",
    "import numpy as np\n",
    "from utils.utils import to_tensor\n",
    "from utils.dataset import Dataset,DataIterator,get_DataLoader\n",
    "from tqdm import tqdm\n",
    "def parse_args(name):   \n",
    "    parser = argparse.ArgumentParser(description=\"Run .\")  \n",
    "    parser.add_argument('--model', nargs='?', default='FPMC')\n",
    "    parser.add_argument('--dataset', nargs='?', default=name,\n",
    "                        help='Choose a dataset.')\n",
    "    parser.add_argument('--batch_size', type=int, default=1024,\n",
    "                        help='Batch size.')\n",
    "    parser.add_argument('--teacher_dims', type=int, default=100,\n",
    "                        help='Number of hidden factors for teacher.')\n",
    "    parser.add_argument('--topN', type=int, default=50,\n",
    "                        help='Learning rate.') \n",
    "    return parser.parse_args(args=[])"
   ]
  },
  {
   "cell_type": "code",
   "execution_count": 3,
   "id": "c8c93580-7e9f-4142-8e00-cad90cf9f895",
   "metadata": {},
   "outputs": [
    {
     "name": "stdout",
     "output_type": "stream",
     "text": [
      "loading data: meta_data\n",
      "\n",
      "loading data: interaction_data\n",
      "\n",
      "split data\n",
      "\n",
      "Using time span 128\n",
      "total session: 7393\n",
      "Using time span 128\n",
      "total session: 2465\n",
      "Using time span 128\n",
      "total session: 2465\n"
     ]
    }
   ],
   "source": [
    "args = parse_args('ML')\n",
    "data = Dataset(args)\n",
    "train_data =  get_DataLoader(data.train,args.batch_size, seq_len=10)\n",
    "valid_data =  get_DataLoader(data.valid,args.batch_size, seq_len=10,train_flag=0)\n",
    "test_data =  get_DataLoader(data.test,args.batch_size, seq_len=10,train_flag=0)\n"
   ]
  },
  {
   "cell_type": "code",
   "execution_count": 5,
   "id": "07e1864d-a110-48e3-85b3-05884dfd676d",
   "metadata": {},
   "outputs": [
    {
     "name": "stdout",
     "output_type": "stream",
     "text": [
      "model loaded from ./best_model/ML+FPMC_T\n"
     ]
    },
    {
     "data": {
      "text/plain": [
       "FPMC(\n",
       "  (LI_emb): Embedding(8475, 100, padding_idx=0)\n",
       "  (item_emb): Embedding(8475, 100)\n",
       "  (loss_func): BPRLoss()\n",
       ")"
      ]
     },
     "execution_count": 5,
     "metadata": {},
     "output_type": "execute_result"
    }
   ],
   "source": [
    "from utils.utils import calculate_session_embs\n",
    "from utils.log import LOG, load_model, save_model\n",
    "\n",
    "if args.model =='GRU4REC':\n",
    "    from GRU4REC import GRU4Rec\n",
    "    model = GRU4Rec(data.n_item,args.hidden_factor,args.batch_size)\n",
    "if 'FPMC' in args.model:\n",
    "    from base_FPMC import FPMC\n",
    "    BASE = FPMC\n",
    "\n",
    "    \n",
    "    best_model_path_teacher = './best_model/'+'%s+FPMC_T'%args.dataset\n",
    "    best_model_path_student = './best_model/'+'%s+FPMC_S'%args.dataset\n",
    "#load Teacher model    \n",
    "teacher_model = BASE(data.n_item,args.teacher_dims,args.batch_size)    \n",
    "load_model(teacher_model, best_model_path_teacher)\n",
    "teacher_model = teacher_model.cuda()\n",
    "teacher_model.eval()   \n",
    "\n"
   ]
  },
  {
   "cell_type": "code",
   "execution_count": 6,
   "id": "a10d69ac-797a-4c35-be95-97a931ba2b01",
   "metadata": {},
   "outputs": [
    {
     "name": "stdout",
     "output_type": "stream",
     "text": [
      "Using time span 128\n",
      "total session: 7393\n"
     ]
    },
    {
     "name": "stderr",
     "output_type": "stream",
     "text": [
      "8it [00:00, 14.59it/s]\n"
     ]
    }
   ],
   "source": [
    "train_data_flag_zero =  get_DataLoader(data.train,args.batch_size, seq_len=10,train_flag=0)\n",
    "for iter, (targets, items, mask, session_id) in tqdm(enumerate(train_data_flag_zero)):\n",
    "    #模型预测性\n",
    "    targets_cuda = to_tensor(targets,'cuda')\n",
    "    items_cuda = to_tensor(items,'cuda')\n",
    "    mask_cuda = to_tensor(mask,'cuda')\n",
    "    session_id_cuda = to_tensor(session_id,'cuda')\n",
    "    teacher_model(items_cuda,mask_cuda)[0].cpu().detach().numpy()\n",
    "    "
   ]
  },
  {
   "cell_type": "code",
   "execution_count": 8,
   "id": "c74c7ae5-3bb5-4556-bb92-1b3bc13910f3",
   "metadata": {},
   "outputs": [],
   "source": [
    "import pandas as pd\n",
    "df = pd.read_pickle('./datasets/%s_prediction.pkl'%args.dataset)"
   ]
  },
  {
   "cell_type": "code",
   "execution_count": 9,
   "id": "d41c42ec-e9f7-4b03-b825-ac41e126113f",
   "metadata": {},
   "outputs": [
    {
     "data": {
      "text/html": [
       "<div>\n",
       "<style scoped>\n",
       "    .dataframe tbody tr th:only-of-type {\n",
       "        vertical-align: middle;\n",
       "    }\n",
       "\n",
       "    .dataframe tbody tr th {\n",
       "        vertical-align: top;\n",
       "    }\n",
       "\n",
       "    .dataframe thead th {\n",
       "        text-align: right;\n",
       "    }\n",
       "</style>\n",
       "<table border=\"1\" class=\"dataframe\">\n",
       "  <thead>\n",
       "    <tr style=\"text-align: right;\">\n",
       "      <th></th>\n",
       "      <th>session_id</th>\n",
       "      <th>target</th>\n",
       "      <th>feature</th>\n",
       "      <th>teacher_position</th>\n",
       "      <th>student_position</th>\n",
       "      <th>teacher_top_item</th>\n",
       "      <th>student_top_item_</th>\n",
       "      <th>loss_user</th>\n",
       "    </tr>\n",
       "  </thead>\n",
       "  <tbody>\n",
       "    <tr>\n",
       "      <th>0</th>\n",
       "      <td>0</td>\n",
       "      <td>1240</td>\n",
       "      <td>[265, 2015, 1313, 528]</td>\n",
       "      <td>0</td>\n",
       "      <td>1</td>\n",
       "      <td>[1240, 2325, 4326, 1322, 1800, 6085, 933, 4711...</td>\n",
       "      <td>[1322, 1240, 4509, 4711, 878, 2500, 4502, 6401...</td>\n",
       "      <td>0.496731</td>\n",
       "    </tr>\n",
       "    <tr>\n",
       "      <th>1</th>\n",
       "      <td>1</td>\n",
       "      <td>5158</td>\n",
       "      <td>[7434, 4139, 1438, 7182, 1206, 2731, 5455, 659...</td>\n",
       "      <td>0</td>\n",
       "      <td>213</td>\n",
       "      <td>[5158, 2264, 7336, 7649, 1714, 2585, 6634, 999...</td>\n",
       "      <td>[386, 5505, 3433, 2586, 1083, 1518, 322, 3157,...</td>\n",
       "      <td>0.525201</td>\n",
       "    </tr>\n",
       "    <tr>\n",
       "      <th>2</th>\n",
       "      <td>2</td>\n",
       "      <td>217</td>\n",
       "      <td>[5677, 2477, 267, 94, 929, 916]</td>\n",
       "      <td>0</td>\n",
       "      <td>7</td>\n",
       "      <td>[217, 2082, 4270, 2058, 918, 282, 5629, 540, 4...</td>\n",
       "      <td>[715, 4270, 2107, 2058, 3393, 2082, 935, 217, ...</td>\n",
       "      <td>0.602745</td>\n",
       "    </tr>\n",
       "    <tr>\n",
       "      <th>3</th>\n",
       "      <td>3</td>\n",
       "      <td>4957</td>\n",
       "      <td>[5895, 7153, 2826, 4399, 4856]</td>\n",
       "      <td>0</td>\n",
       "      <td>5</td>\n",
       "      <td>[4957, 2119, 5003, 2908, 2974, 3053, 20, 953, ...</td>\n",
       "      <td>[2974, 844, 1777, 1511, 5906, 4957, 5890, 2932...</td>\n",
       "      <td>0.530305</td>\n",
       "    </tr>\n",
       "    <tr>\n",
       "      <th>4</th>\n",
       "      <td>4</td>\n",
       "      <td>5890</td>\n",
       "      <td>[4904, 1993, 1045, 3889, 1099, 815, 2133, 2592]</td>\n",
       "      <td>0</td>\n",
       "      <td>2</td>\n",
       "      <td>[5890, 6254, 3972, 753, 1302, 5023, 7378, 7532...</td>\n",
       "      <td>[3186, 6559, 5890, 2991, 4302, 2893, 3213, 215...</td>\n",
       "      <td>0.504147</td>\n",
       "    </tr>\n",
       "    <tr>\n",
       "      <th>...</th>\n",
       "      <td>...</td>\n",
       "      <td>...</td>\n",
       "      <td>...</td>\n",
       "      <td>...</td>\n",
       "      <td>...</td>\n",
       "      <td>...</td>\n",
       "      <td>...</td>\n",
       "      <td>...</td>\n",
       "    </tr>\n",
       "    <tr>\n",
       "      <th>7388</th>\n",
       "      <td>7388</td>\n",
       "      <td>6396</td>\n",
       "      <td>[7167, 7002, 7009, 7148, 4966]</td>\n",
       "      <td>0</td>\n",
       "      <td>46</td>\n",
       "      <td>[6396, 6250, 5840, 7434, 7235, 6646, 5971, 659...</td>\n",
       "      <td>[1294, 4289, 6990, 4506, 6213, 6122, 5490, 639...</td>\n",
       "      <td>0.507500</td>\n",
       "    </tr>\n",
       "    <tr>\n",
       "      <th>7389</th>\n",
       "      <td>7389</td>\n",
       "      <td>3545</td>\n",
       "      <td>[6646, 1198, 1962, 2124]</td>\n",
       "      <td>0</td>\n",
       "      <td>20</td>\n",
       "      <td>[3545, 3145, 1264, 974, 633, 2974, 1020, 3425,...</td>\n",
       "      <td>[4302, 1355, 633, 3972, 5890, 2401, 2559, 4280...</td>\n",
       "      <td>0.534481</td>\n",
       "    </tr>\n",
       "    <tr>\n",
       "      <th>7390</th>\n",
       "      <td>7390</td>\n",
       "      <td>1930</td>\n",
       "      <td>[7401, 878, 884, 7055, 1800]</td>\n",
       "      <td>0</td>\n",
       "      <td>9</td>\n",
       "      <td>[1930, 6627, 7274, 2638, 904, 4139, 929, 4325,...</td>\n",
       "      <td>[3953, 942, 3134, 335, 4897, 7274, 5901, 715, ...</td>\n",
       "      <td>0.492367</td>\n",
       "    </tr>\n",
       "    <tr>\n",
       "      <th>7391</th>\n",
       "      <td>7391</td>\n",
       "      <td>3148</td>\n",
       "      <td>[7145, 976, 7492, 4713, 2023, 5607, 7317, 249,...</td>\n",
       "      <td>0</td>\n",
       "      <td>61</td>\n",
       "      <td>[3148, 2805, 987, 7354, 9, 3170, 929, 7326, 65...</td>\n",
       "      <td>[7517, 3892, 1452, 267, 7530, 7434, 1358, 7342...</td>\n",
       "      <td>0.539825</td>\n",
       "    </tr>\n",
       "    <tr>\n",
       "      <th>7392</th>\n",
       "      <td>7392</td>\n",
       "      <td>7546</td>\n",
       "      <td>[714, 5265, 2230, 7767, 7903, 4356, 4588, 3991...</td>\n",
       "      <td>0</td>\n",
       "      <td>12</td>\n",
       "      <td>[7546, 7530, 7413, 7309, 2604, 8070, 7672, 780...</td>\n",
       "      <td>[8079, 3460, 7362, 6644, 7899, 7790, 7492, 770...</td>\n",
       "      <td>0.503741</td>\n",
       "    </tr>\n",
       "  </tbody>\n",
       "</table>\n",
       "<p>7393 rows × 8 columns</p>\n",
       "</div>"
      ],
      "text/plain": [
       "      session_id  target                                            feature  \\\n",
       "0              0    1240                             [265, 2015, 1313, 528]   \n",
       "1              1    5158  [7434, 4139, 1438, 7182, 1206, 2731, 5455, 659...   \n",
       "2              2     217                    [5677, 2477, 267, 94, 929, 916]   \n",
       "3              3    4957                     [5895, 7153, 2826, 4399, 4856]   \n",
       "4              4    5890    [4904, 1993, 1045, 3889, 1099, 815, 2133, 2592]   \n",
       "...          ...     ...                                                ...   \n",
       "7388        7388    6396                     [7167, 7002, 7009, 7148, 4966]   \n",
       "7389        7389    3545                           [6646, 1198, 1962, 2124]   \n",
       "7390        7390    1930                       [7401, 878, 884, 7055, 1800]   \n",
       "7391        7391    3148  [7145, 976, 7492, 4713, 2023, 5607, 7317, 249,...   \n",
       "7392        7392    7546  [714, 5265, 2230, 7767, 7903, 4356, 4588, 3991...   \n",
       "\n",
       "      teacher_position  student_position  \\\n",
       "0                    0                 1   \n",
       "1                    0               213   \n",
       "2                    0                 7   \n",
       "3                    0                 5   \n",
       "4                    0                 2   \n",
       "...                ...               ...   \n",
       "7388                 0                46   \n",
       "7389                 0                20   \n",
       "7390                 0                 9   \n",
       "7391                 0                61   \n",
       "7392                 0                12   \n",
       "\n",
       "                                       teacher_top_item  \\\n",
       "0     [1240, 2325, 4326, 1322, 1800, 6085, 933, 4711...   \n",
       "1     [5158, 2264, 7336, 7649, 1714, 2585, 6634, 999...   \n",
       "2     [217, 2082, 4270, 2058, 918, 282, 5629, 540, 4...   \n",
       "3     [4957, 2119, 5003, 2908, 2974, 3053, 20, 953, ...   \n",
       "4     [5890, 6254, 3972, 753, 1302, 5023, 7378, 7532...   \n",
       "...                                                 ...   \n",
       "7388  [6396, 6250, 5840, 7434, 7235, 6646, 5971, 659...   \n",
       "7389  [3545, 3145, 1264, 974, 633, 2974, 1020, 3425,...   \n",
       "7390  [1930, 6627, 7274, 2638, 904, 4139, 929, 4325,...   \n",
       "7391  [3148, 2805, 987, 7354, 9, 3170, 929, 7326, 65...   \n",
       "7392  [7546, 7530, 7413, 7309, 2604, 8070, 7672, 780...   \n",
       "\n",
       "                                      student_top_item_  loss_user  \n",
       "0     [1322, 1240, 4509, 4711, 878, 2500, 4502, 6401...   0.496731  \n",
       "1     [386, 5505, 3433, 2586, 1083, 1518, 322, 3157,...   0.525201  \n",
       "2     [715, 4270, 2107, 2058, 3393, 2082, 935, 217, ...   0.602745  \n",
       "3     [2974, 844, 1777, 1511, 5906, 4957, 5890, 2932...   0.530305  \n",
       "4     [3186, 6559, 5890, 2991, 4302, 2893, 3213, 215...   0.504147  \n",
       "...                                                 ...        ...  \n",
       "7388  [1294, 4289, 6990, 4506, 6213, 6122, 5490, 639...   0.507500  \n",
       "7389  [4302, 1355, 633, 3972, 5890, 2401, 2559, 4280...   0.534481  \n",
       "7390  [3953, 942, 3134, 335, 4897, 7274, 5901, 715, ...   0.492367  \n",
       "7391  [7517, 3892, 1452, 267, 7530, 7434, 1358, 7342...   0.539825  \n",
       "7392  [8079, 3460, 7362, 6644, 7899, 7790, 7492, 770...   0.503741  \n",
       "\n",
       "[7393 rows x 8 columns]"
      ]
     },
     "execution_count": 9,
     "metadata": {},
     "output_type": "execute_result"
    }
   ],
   "source": [
    "df"
   ]
  },
  {
   "cell_type": "code",
   "execution_count": 17,
   "id": "a200c184-a886-42f7-b048-15dd03f19ace",
   "metadata": {},
   "outputs": [],
   "source": [
    "class Prompt_class(object):\n",
    "    def __init__(self,train_df,data):\n",
    "        self.train_df = train_df\n",
    "        self.data = data\n",
    "    def ids2names(self,ids):\n",
    "        r = '{'\n",
    "        for item in ids:\n",
    "            r = r + '<ID_%d:'%item+str(self.data.id2title[item])+'>, '\n",
    "        r = r[:-2] + '}'\n",
    "        return r\n",
    "    def generate_prompt(self,idxes):\n",
    "\n",
    "        p1 = \"You are an AI assistant, please STRICTLY summarize the main logic of the recommendation results provided by MY OWN recommender system based on users' behaviors.\"\n",
    "        p2 = \"Specifically, the users has interacted with several %s (i.e., users' behaviors). Thee recommender system provides Top-20 items (i.e., recommendation results) based on users behaviors, where item in the top position indicates the higher recommendation intent.\\n\"%args.dataset\n",
    "        p3 = \"We provide %d cases for you to summarize the relationship between users' behaviors and recommendation results:\\n\"%(len(idxes))\n",
    "        p4 = \"\"\n",
    "\n",
    "        for i,idx in enumerate(idxes):\n",
    "            df_idx = self.train_df[self.train_df['session_id']==idx].iloc[0]\n",
    "            candidate = list(df_idx['teacher_top_item'])\n",
    "            if df_idx['target'] not in candidate:\n",
    "                candidate = candidate[:-1]\n",
    "                candidate.append(df_idx['target'])\n",
    "            feature = set(df_idx['feature'] )  \n",
    "            p4 = p4 + \"For case %d, the user's interactions are {%s}. The recommendation results are {%s}\\n\"%(i,self.ids2names(feature),self.ids2names(candidate))\n",
    "        \n",
    "        p5 = \"Do not output the detail analysis of specific items, and make high-level summarization JUST WITH PROVIDED CASES, e.g., 1. Ignore diversity in genres or series. For example, Although the user already owns this one, there would still be interest in same one, e.g., its the special version.\"\n",
    "        Prompt = p1 + p2 + p3 + p4 + p5\n",
    "        # print(Prompt)\n",
    "        # print('\\n\\n\\n')\n",
    "        # print('Groud Truth:%s'%self.ids2names([df_idx['target']]))\n",
    "        return Prompt,df_idx['target']"
   ]
  },
  {
   "cell_type": "code",
   "execution_count": 18,
   "id": "55b4536b-e69f-405f-9559-4f89787f9919",
   "metadata": {},
   "outputs": [],
   "source": [
    "promp_generator = Prompt_class(df,data)"
   ]
  },
  {
   "cell_type": "code",
   "execution_count": 19,
   "id": "dd97e0eb-9113-4f86-ba0b-fa4ca2f4dbdf",
   "metadata": {},
   "outputs": [],
   "source": [
    "p,gt = promp_generator.generate_prompt(np.random.randint(0,7000,20))\n"
   ]
  },
  {
   "cell_type": "code",
   "execution_count": 20,
   "id": "2e89f736-e798-48dc-b93b-5b4e0392c563",
   "metadata": {
    "scrolled": true
   },
   "outputs": [
    {
     "name": "stdout",
     "output_type": "stream",
     "text": [
      "You are an AI assistant, please STRICTLY summarize the main logic of the recommendation results provided by MY OWN recommender system based on users' behaviors.Specifically, the users has interacted with several ML (i.e., users' behaviors). Thee recommender system provides Top-20 items (i.e., recommendation results) based on users behaviors, where item in the top position indicates the higher recommendation intent.\n",
      "We provide 20 cases for you to summarize the relationship between users' behaviors and recommendation results:\n",
      "For case 0, the user's interactions are {{<ID_2243:American Beauty>, <ID_310:The Mask>, <ID_6680:Control Room>, <ID_345:Airheads>, <ID_1178:Austin Powers: International Man of Mystery>, <ID_315:Reality Bites>}}. The recommendation results are {{<ID_319:The River Wild>, <ID_473:The Nightmare Before Christmas>, <ID_140:Hackers>, <ID_2100:Austin Powers: The Spy Who Shagged Me>, <ID_3588:The Return of the Living Dead>, <ID_3937:The Fall Guy>, <ID_495:Home Alone>, <ID_505:Pretty Woman>, <ID_223:Legends of the Fall>, <ID_436:The Piano>, <ID_668:Bound>, <ID_2974:X-Men>, <ID_7276:Mysterious Skin>, <ID_1511:Halloween III: Season of the Witch>, <ID_4958:Cowboy Bebop: Tengoku no tobira>, <ID_1445:Buffalo '66>, <ID_1167:Grosse Pointe Blank>, <ID_1247:L.A. Confidential>, <ID_3874:Waking Life>, <ID_4741:Catch Me If You Can>, <ID_365:Cliffhanger>, <ID_1828:A Bug's Life>, <ID_962:Miller's Crossing>, <ID_1441:Doctor Dolittle>, <ID_4885:Spider>, <ID_2575:Forever Young>, <ID_724:Father of the Bride>, <ID_663:Tin Cup>, <ID_702:Charade>, <ID_960:Rosencrantz & Guildenstern Are Dead>, <ID_7753:La science des rêves>, <ID_953:Harold and Maude>, <ID_1322:Titanic>, <ID_196:Ed Wood>, <ID_4167:Stir Crazy>, <ID_3145:Born on the Fourth of July>, <ID_383:The Firm>, <ID_2058:Star Wars: Episode I - The Phantom Menace>, <ID_5448:The Return>, <ID_2451:Toy Story>, <ID_289:Ace Ventura: Pet Detective>, <ID_6394:Spider-Man>, <ID_1202:Batman & Robin>, <ID_935:Le grand bleu>, <ID_1269:RocketMan>, <ID_1940:¡Three Amigos!>, <ID_5558:Batoru rowaiaru>, <ID_5170:Dirty Pretty Things>, <ID_3387:A Knight's Tale>, <ID_5530:Hannah and Her Sisters>}}\n",
      "For case 1, the user's interactions are {{<ID_8450:Bolt>, <ID_8072:In the Shadow of the Moon>, <ID_205:Hoop Dreams>, <ID_8109:Saw IV>, <ID_8403:City of Ember>}}. The recommendation results are {{<ID_8207:Step Up 2: The Streets>, <ID_8135:Rails & Ties>, <ID_785:Homeward Bound: The Incredible Journey>, <ID_7727:Beerfest>, <ID_6328:The Terminal>, <ID_3954:Not Another Teen Movie>, <ID_6266:Police Academy: Mission to Moscow>, <ID_1142:Lost Highway>, <ID_5143:The Main Event>, <ID_1311:Flubber>, <ID_8062:My Winnipeg>, <ID_46:Shichinin no samurai>, <ID_2429:Kagemusha>, <ID_1418:Godzilla>, <ID_8114:King of California>, <ID_8087:Elizabeth: The Golden Age>, <ID_1066:One Hundred and One Dalmatians>, <ID_7828:Blood Diamond>, <ID_6973:Dead End>, <ID_7329:Me and You and Everyone We Know>, <ID_6599:Shall We Dance>, <ID_6559:Resident Evil: Apocalypse>, <ID_573:The Truth About Cats & Dogs>, <ID_2463:Sweet and Lowdown>, <ID_1176:Volcano>, <ID_193:Yin shi nan nu>, <ID_7753:La science des rêves>, <ID_1289:Starship Troopers>, <ID_7725:The Queen>, <ID_842:Dial M for Murder>, <ID_1241:My Own Private Idaho>, <ID_2779:Cabaret>, <ID_1013:Real Genius>, <ID_1314:Home Alone 3>, <ID_3773:Rock Star>, <ID_4265:Letyat zhuravli>, <ID_4676:Adaptation.>, <ID_4778:Amen.>, <ID_6707:The Roaring Twenties>, <ID_7820:Harsh Times>, <ID_5093:The Desert Fox: The Story of Rommel>, <ID_63:Friday>, <ID_3137:Vertical Limit>, <ID_1846:Red Sonja>, <ID_732:Lost Horizon>, <ID_7056:The Life Aquatic with Steve Zissou>, <ID_595:Barb Wire>, <ID_825:Sleepers>, <ID_2185:Damien: Omen II>, <ID_7724:The Illusionist>}}\n",
      "For case 2, the user's interactions are {{<ID_551:Lust och fägring stor>, <ID_8137:Enchanted>, <ID_4299:Divine Secrets of the Ya-Ya Sisterhood>, <ID_6028:Babylon 5: The River of Souls>, <ID_5965:Babylon 5: In the Beginning>, <ID_8013:Harry Potter and the Order of the Phoenix>, <ID_6029:Babylon 5: Thirdspace>, <ID_7152:Bride & Prejudice>, <ID_3892:Harry Potter and the Sorcerer's Stone>, <ID_924:Lawrence of Arabia>}}. The recommendation results are {{<ID_303:Higher Learning>, <ID_6027:Babylon 5: A Call to Arms>, <ID_2674:Thelma & Louise>, <ID_5682:Paycheck>, <ID_5170:Dirty Pretty Things>, <ID_7492:Harry Potter and the Goblet of Fire>, <ID_3494:The Lion in Winter>, <ID_1537:Back to the Future Part II>, <ID_4139:Ice Age>, <ID_6382:El ángel exterminador>, <ID_2116:Summer of Sam>, <ID_6768:Becket>, <ID_7975:Pirates of the Caribbean: At World's End>, <ID_3510:Legally Blonde>, <ID_1733:Cube>, <ID_664:The Godfather>, <ID_7413:Domino>, <ID_7739:The Wind That Shakes the Barley>, <ID_5486:Love Actually>, <ID_4505:Punch-Drunk Love>, <ID_914:One Flew Over the Cuckoo's Nest>, <ID_4422:City by the Sea>, <ID_1017:Forbidden Planet>, <ID_7035:Metallica: Some Kind of Monster>, <ID_3904:À bout de souffle>, <ID_5108:Opportunity Knocks>, <ID_8011:Transformers>, <ID_963:Dead Poets Society>, <ID_1026:Alien³>, <ID_6016:Sniper>, <ID_7465:Stay>, <ID_5033:Finding Nemo>, <ID_1362:U.S. Marshals>, <ID_5950:Body Double>, <ID_7109:Iceman>, <ID_6634:Ray>, <ID_3327:Memento>, <ID_3261:Saving Silverman>, <ID_366:Coneheads>, <ID_1518:Bride of Chucky>, <ID_7421:Corpse Bride>, <ID_1538:Back to the Future Part III>, <ID_3634:Erik the Viking>, <ID_3564:Gorillas in the Mist: The Story of Dian Fossey>, <ID_5114:Where the Heart Is>, <ID_4502:Bowling for Columbine>, <ID_291:Backbeat>, <ID_7649:Over the Hedge>, <ID_1643:Ever After>, <ID_1412:Clockwatchers>}}\n",
      "For case 3, the user's interactions are {{<ID_7747:SherryBaby>, <ID_8164:There Will Be Blood>, <ID_8101:Persepolis>, <ID_8151:Juno>, <ID_8084:Dan in Real Life>, <ID_8054:The Brothers Solomon>, <ID_8023:The Simpsons Movie>, <ID_8090:Lars and the Real Girl>, <ID_5629:Kaze no tani no Naushika>, <ID_8063:4 luni, 3 saptamâni si 2 zile>}}. The recommendation results are {{<ID_8070:Eastern Promises>, <ID_8061:Atonement>, <ID_8118:Before the Devil Knows You're Dead>, <ID_8005:1408>, <ID_7880:Ratatouille>, <ID_7985:Ocean's Thirteen>, <ID_8011:Transformers>, <ID_8210:Semi-Pro>, <ID_8038:Rush Hour 3>, <ID_7939:Sunshine>, <ID_8079:Se, jie>, <ID_7959:Spider-Man 3>, <ID_7791:The Prestige>, <ID_8116:American Gangster>, <ID_7896:Hot Fuzz>, <ID_3927:Flash Gordon>, <ID_8028:The Bourne Ultimatum>, <ID_8087:Elizabeth: The Golden Age>, <ID_8202:Jumper>, <ID_2979:Pokémon: The Movie 2000>, <ID_5970:Le salaire de la peur>, <ID_7739:The Wind That Shakes the Barley>, <ID_8260:Son of Rambow>, <ID_8017:First Snow>, <ID_7975:Pirates of the Caribbean: At World's End>, <ID_8095:Gone Baby Gone>, <ID_8162:Sweeney Todd: The Demon Barber of Fleet Street>, <ID_1144:Donnie Brasco>, <ID_8058:3:10 to Yuma>, <ID_3987:Charlotte Gray>, <ID_6956:The Laramie Project>, <ID_8114:King of California>, <ID_7787:The Last King of Scotland>, <ID_8306:Wanted>, <ID_7950:Fracture>, <ID_7415:Æon Flux>, <ID_7294:Divorzio all'italiana>, <ID_8156:The Bucket List>, <ID_8216:The Bank Job>, <ID_7968:Knocked Up>, <ID_8091:30 Days of Night>, <ID_7413:Domino>, <ID_8173:27 Dresses>, <ID_8189:Rambo>, <ID_7430:Into the Blue>, <ID_7828:Blood Diamond>, <ID_910:The Thin Blue Line>, <ID_8117:Bee Movie>, <ID_8230:Miss Pettigrew Lives for a Day>, <ID_7947:Aqua Teen Hunger Force Colon Movie Film for Theaters>}}\n",
      "For case 4, the user's interactions are {{<ID_8356:Tropic Thunder>, <ID_4452:Das Experiment>, <ID_6888:Die xue jie tou>, <ID_937:Dip huet seung hung>, <ID_7435:Kiss Kiss Bang Bang>, <ID_7052:Gokudô kyôfu dai-gekijô: Gozu>, <ID_8269:Redbelt>, <ID_8302:The Incredible Hulk>, <ID_8248:Forgetting Sarah Marshall>, <ID_8350:Pineapple Express>}}. The recommendation results are {{<ID_2280:Tsubaki Sanjûrô>, <ID_7795:13 Tzameti>, <ID_7968:Knocked Up>, <ID_8079:Se, jie>, <ID_8235:The Hammer>, <ID_6884:Majo no takkyûbin>, <ID_3936:Ocean's Eleven>, <ID_8196:In Bruges>, <ID_8260:Son of Rambow>, <ID_8028:The Bourne Ultimatum>, <ID_8167:Walk Hard: The Dewey Cox Story>, <ID_8131:Beowulf>, <ID_8231:Snow Angels>, <ID_8434:Quantum of Solace>, <ID_6739:The Three Musketeers>, <ID_6112:They Came from Beyond Space>, <ID_8215:10,000 BC>, <ID_6978:Battlestar Galactica>, <ID_8157:The Kite Runner>, <ID_8251:The Visitor>, <ID_8272:The Fall>, <ID_7991:Surf's Up>, <ID_7791:The Prestige>, <ID_8121:Be Kind Rewind>, <ID_4461:Sen to Chihiro no kamikakushi>, <ID_7912:The Last Mimzy>, <ID_7954:In the Land of Women>, <ID_3029:The Replacements>, <ID_8244:Stop-Loss>, <ID_6589:1492: Conquest of Paradise>, <ID_8005:1408>, <ID_8230:Miss Pettigrew Lives for a Day>, <ID_7400:Proof>, <ID_7979:Gracie>, <ID_6250:Mindhunters>, <ID_7970:28 Weeks Later>, <ID_8241:21>, <ID_7813:Happy Feet>, <ID_111:The Curse of the Jade Scorpion>, <ID_8249:Superhero Movie>, <ID_4410:Time After Time>, <ID_7594:Ice Age: The Meltdown>, <ID_7696:Monster House>, <ID_7342:Fantastic Four>, <ID_8254:Speed Racer>, <ID_8306:Wanted>, <ID_8112:Tropa de Elite>, <ID_5665:The Last Samurai>, <ID_941:Full Metal Jacket>, <ID_7704:Miami Vice>}}\n",
      "For case 5, the user's interactions are {{<ID_8205:Vantage Point>, <ID_8302:The Incredible Hulk>, <ID_8305:WALL·E>, <ID_8307:Hancock>, <ID_6232:Our Man in Havana>, <ID_7199:The Green Berets>}}. The recommendation results are {{<ID_6739:The Three Musketeers>, <ID_8283:Indiana Jones and the Kingdom of the Crystal Skull>, <ID_8244:Stop-Loss>, <ID_8306:Wanted>, <ID_7795:13 Tzameti>, <ID_8267:Iron Man>, <ID_8241:21>, <ID_8251:The Visitor>, <ID_7991:Surf's Up>, <ID_6112:They Came from Beyond Space>, <ID_8235:The Hammer>, <ID_8074:Resident Evil: Extinction>, <ID_8216:The Bank Job>, <ID_8231:Snow Angels>, <ID_8272:The Fall>, <ID_8249:Superhero Movie>, <ID_8157:The Kite Runner>, <ID_8202:Jumper>, <ID_8260:Son of Rambow>, <ID_8434:Quantum of Solace>, <ID_7954:In the Land of Women>, <ID_8199:Teeth>, <ID_1144:Donnie Brasco>, <ID_7812:Casino Royale>, <ID_7600:Thank You for Smoking>, <ID_8215:10,000 BC>, <ID_8196:In Bruges>, <ID_8005:1408>, <ID_8193:Strange Wilderness>, <ID_8374:The Onion Movie>, <ID_7967:Away from Her>, <ID_7604:Aquamarine>, <ID_8118:Before the Devil Knows You're Dead>, <ID_7880:Ratatouille>, <ID_8230:Miss Pettigrew Lives for a Day>, <ID_8165:Charlie Wilson's War>, <ID_8084:Dan in Real Life>, <ID_8254:Speed Racer>, <ID_8210:Semi-Pro>, <ID_7813:Happy Feet>, <ID_8170:The Water Horse>, <ID_7745:The Last Kiss>, <ID_7430:Into the Blue>, <ID_7342:Fantastic Four>, <ID_6978:Battlestar Galactica>, <ID_7996:Death Proof>, <ID_4327:Rabbit-Proof Fence>, <ID_8131:Beowulf>, <ID_8396:Trois couleurs: Rouge>, <ID_8356:Tropic Thunder>}}\n",
      "For case 6, the user's interactions are {{<ID_7009:Ong-bak>, <ID_513:Fargo>, <ID_7525:Matador>, <ID_934:Army of Darkness>, <ID_3162:O Brother, Where Art Thou?>, <ID_2120:Arlington Road>, <ID_1385:The Spanish Prisoner>, <ID_499:Dances with Wolves>, <ID_5338:BubbaHo-Tep>}}. The recommendation results are {{<ID_7908:300>, <ID_621:Independence Day>, <ID_282:What's Eating Gilbert Grape>, <ID_2058:Star Wars: Episode I - The Phantom Menace>, <ID_4269:About a Boy>, <ID_294:Clear and Present Danger>, <ID_7309:Mr. & Mrs. Smith>, <ID_320:Speed>, <ID_307:The Lion King>, <ID_6396:Before Sunset>, <ID_929:Star Wars: Episode VI - Return of the Jedi>, <ID_365:Cliffhanger>, <ID_1358:As Good as It Gets>, <ID_2439:Fatal Attraction>, <ID_1216:Contact>, <ID_3134:Wo hu cang long>, <ID_2333:Time Bandits>, <ID_7336:War of the Worlds>, <ID_396:The Englishman Who Went Up a Hill But Came Down a Mountain>, <ID_6504:Garden State>, <ID_916:Star Wars: Episode V - The Empire Strikes Back>, <ID_3393:Shrek>, <ID_1930:Der Name der Rose>, <ID_540:Mission: Impossible III>, <ID_594:Twister>, <ID_124:Batman Forever>, <ID_217:Star Wars>, <ID_9:GoldenEye>, <ID_1264:The Full Monty>, <ID_265:Stargate>, <ID_999:Fantasia>, <ID_1091:Raising Arizona>, <ID_925:A Clockwork Orange>, <ID_3492:Howling III>, <ID_2176:Never Talk to Strangers>, <ID_3370:The World According to Garp>, <ID_2082:The Rocky Horror Picture Show>, <ID_85:Broken Arrow>, <ID_3707:UHF>, <ID_1020:Butch Cassidy and the Sundance Kid>, <ID_2988:What About Bob?>, <ID_4381:The Good Girl>, <ID_2100:Austin Powers: The Spy Who Shagged Me>, <ID_3885:Monsters, Inc.>, <ID_2559:Wayne's World>, <ID_7011:Spanglish>, <ID_2348:Who Framed Roger Rabbit>, <ID_2127:Ghost Busters>, <ID_741:It's a Wonderful Life>, <ID_5629:Kaze no tani no Naushika>}}\n",
      "For case 7, the user's interactions are {{<ID_121:Apollo 13>, <ID_5666:Big Fish>, <ID_3437:The Seven Year Itch>, <ID_313:Naked Gun 33 1/3: The Final Insult>, <ID_1690:Rope>, <ID_4283:Thirteen Conversations About One Thing>}}. The recommendation results are {{<ID_1700:Strangers on a Train>, <ID_1216:Contact>, <ID_3036:The Naked Gun 2½: The Smell of Fear>, <ID_5486:Love Actually>, <ID_168:To Wong Foo Thanks for Everything, Julie Newmar>, <ID_930:Der Himmel über Berlin>, <ID_3379:Nine to Five>, <ID_1714:Saboteur>, <ID_4584:Jackass: The Movie>, <ID_1917:Howard the Duck>, <ID_2754:Return to Me>, <ID_5322:Super Sucker>, <ID_547:James and the Giant Peach>, <ID_7517:King Kong>, <ID_2114:South Park: Bigger Longer & Uncut>, <ID_5438:Mystic River>, <ID_3162:O Brother, Where Art Thou?>, <ID_7345:Wedding Crashers>, <ID_1866:The Prince of Egypt>, <ID_6382:El ángel exterminador>, <ID_5670:Girl with a Pearl Earring>, <ID_1322:Titanic>, <ID_4715:Gangs of New York>, <ID_145:Kids>, <ID_2730:High Fidelity>, <ID_7156:Beautiful Boxer>, <ID_805:Die Hard>, <ID_1537:Back to the Future Part II>, <ID_2488:Magnolia>, <ID_2932:Bronenosets Potyomkin>, <ID_7649:Over the Hedge>, <ID_1826:Enemy of the State>, <ID_16:Sense and Sensibility>, <ID_2214:Three Days of the Condor>, <ID_3675:America's Sweethearts>, <ID_6627:Sideways>, <ID_814:Beautiful Thing>, <ID_1078:Grease>, <ID_6583:Orca>, <ID_1491:Klute>, <ID_3447:Artificial Intelligence: AI>, <ID_5524:Das Cabinet des Dr. Caligari.>, <ID_4139:Ice Age>, <ID_1248:Seven Years in Tibet>, <ID_3909:Subway>, <ID_6220:Le mari de la coiffeuse>, <ID_3436:How to Marry a Millionaire>, <ID_8414:Bad Eggs>, <ID_3107:Bedazzled>, <ID_4877:The Life of David Gale>}}\n",
      "For case 8, the user's interactions are {{<ID_1026:Alien³>, <ID_5156:Terminator 3: Rise of the Machines>, <ID_4972:Holes>, <ID_4460:Secretary>, <ID_5166:Bad Boys II>, <ID_5458:The Italian Job>, <ID_5171:Umi wa miteita>, <ID_1302:Alien³>, <ID_5369:The Mists of Avalon>, <ID_5755:The Out-of-Towners>}}. The recommendation results are {{<ID_4011:Conan the Destroyer>, <ID_920:Aliens>, <ID_1303:Alien Escape>, <ID_2403:Pokémon: The First Movie>, <ID_5154:Legally Blonde 2: Red, White & Blonde>, <ID_3960:Bill & Ted's Bogus Journey>, <ID_6368:Taxi 3>, <ID_2401:Dogma>, <ID_5421:In Cold Blood>, <ID_7345:Wedding Crashers>, <ID_2754:Return to Me>, <ID_513:Fargo>, <ID_2347:RoboCop 2>, <ID_1327:Jackie Brown>, <ID_4441:Spaced Invaders>, <ID_2579:Scream 3>, <ID_6975:Boksuneun naui geot>, <ID_7189:Oh, God! You Devil>, <ID_2527:Loaded Weapon 1>, <ID_4993:Identity>, <ID_3972:A Beautiful Mind>, <ID_1089:Citizen Ruth>, <ID_2429:Kagemusha>, <ID_4461:Sen to Chihiro no kamikakushi>, <ID_2789:U-571>, <ID_5508:Desk Set>, <ID_3154:What Women Want>, <ID_112:Down Periscope>, <ID_3194:Foxy Brown>, <ID_845:Reservoir Dogs>, <ID_4883:Stone Reader>, <ID_5682:Paycheck>, <ID_301:Forrest Gump>, <ID_5314:The Bostonians>, <ID_3064:Best in Show>, <ID_3896:Spy Game>, <ID_3036:The Naked Gun 2½: The Smell of Fear>, <ID_942:A Grand Day Out with Wallace and Gromit>, <ID_3444:Lara Croft: Tomb Raider>, <ID_957:Terminator Salvation>, <ID_1311:Flubber>, <ID_1007:Some Kind of Wonderful>, <ID_5153:The Incredible Hulk>, <ID_702:Charade>, <ID_1192:The Lost World: Jurassic Park>, <ID_299:Cobb>, <ID_11:Dracula: Dead and Loving It>, <ID_7761:Apocalypto>, <ID_3874:Waking Life>, <ID_8233:The Dark Knight>}}\n",
      "For case 9, the user's interactions are {{<ID_7698:Snakes on a Plane>, <ID_7668:Clerks II>, <ID_7669:Lady in the Water>, <ID_7701:Night at the Museum>, <ID_7797:Catch a Fire>, <ID_7704:Miami Vice>}}. The recommendation results are {{<ID_7636:The Sentinel>, <ID_7700:Talladega Nights: The Ballad of Ricky Bobby>, <ID_7696:Monster House>, <ID_7703:Stranger Than Fiction>, <ID_3773:Rock Star>, <ID_7801:Flushed Away>, <ID_7959:Spider-Man 3>, <ID_7600:Thank You for Smoking>, <ID_7053:Hotel Rwanda>, <ID_7766:Borat: Cultural Learnings of America for Make Benefit Glorious Nation of Kazakhstan>, <ID_3180:Gettysburg>, <ID_7714:Barnyard>, <ID_7835:We Are Marshall>, <ID_7304:Cinderella Man>, <ID_7423:A History of Violence>, <ID_7707:John Tucker Must Die>, <ID_7737:The Wicker Man>, <ID_6916:Änglagård>, <ID_7639:American Dreams>, <ID_7469:Saw II>, <ID_7922:Reign Over Me>, <ID_7490:The Descent>, <ID_7533:Rumor Has It...>, <ID_7653:X-Men: The Last Stand>, <ID_2761:Mystery Train>, <ID_7098:Tais-toi!>, <ID_7644:United 93>, <ID_7754:The Black Dahlia>, <ID_7583:Date Movie>, <ID_7557:Underworld: Evolution>, <ID_7664:Click>, <ID_6656:Ocean's Twelve>, <ID_4272:The Importance of Being Earnest>, <ID_7896:Hot Fuzz>, <ID_7727:Beerfest>, <ID_7679:Garfield: A Tail of Two Kitties>, <ID_7767:El laberinto del fauno>, <ID_7818:The Holiday>, <ID_7828:Blood Diamond>, <ID_7692:Wordplay>, <ID_1573:Herbie Goes to Monte Carlo>, <ID_7146:Suchîmubôi>, <ID_7945:Disturbia>, <ID_5413:Picture This>, <ID_7656:Cars>, <ID_7672:Marie Antoinette>, <ID_7558:Looking for Comedy in the Muslim World>, <ID_7649:Over the Hedge>, <ID_7564:A Cock and Bull Story>, <ID_7681:Superman Returns>}}\n",
      "For case 10, the user's interactions are {{<ID_7488:Pride & Prejudice>, <ID_8131:Beowulf>, <ID_836:Life of Brian>, <ID_878:Monty Python and the Holy Grail>, <ID_4818:Monty Python Live at the Hollywood Bowl>, <ID_727:Gigi>, <ID_8088:Michael Clayton>, <ID_8059:Shoot 'Em Up>, <ID_8061:Atonement>, <ID_895:Nuovo Cinema Paradiso>}}. The recommendation results are {{<ID_5385:The Meaning of Life>, <ID_8079:Se, jie>, <ID_8087:Elizabeth: The Golden Age>, <ID_7896:Hot Fuzz>, <ID_7945:Disturbia>, <ID_46:Shichinin no samurai>, <ID_856:Top Gun>, <ID_7830:Eragon>, <ID_8117:Bee Movie>, <ID_7303:Saving Face>, <ID_6524:AVP: Alien vs. Predator>, <ID_8011:Transformers>, <ID_8014:I Now Pronounce You Chuck & Larry>, <ID_7591:16 Blocks>, <ID_7564:A Cock and Bull Story>, <ID_8230:Miss Pettigrew Lives for a Day>, <ID_3936:Ocean's Eleven>, <ID_7791:The Prestige>, <ID_8038:Rush Hour 3>, <ID_5587:What's New Pussycat>, <ID_8109:Saw IV>, <ID_8090:Lars and the Real Girl>, <ID_7880:Ratatouille>, <ID_1301:The Man Who Knew Too Little>, <ID_7530:Munich>, <ID_2427:Ladri di biciclette>, <ID_7899:Next>, <ID_8066:In the Valley of Elah>, <ID_8005:1408>, <ID_7992:4: Rise of the Silver Surfer>, <ID_6162:Gladiator>, <ID_7636:The Sentinel>, <ID_8070:Eastern Promises>, <ID_3342:Shadow Magic>, <ID_8175:D-War>, <ID_2364:Inside Man>, <ID_8016:Driving Lessons>, <ID_7813:Happy Feet>, <ID_7934:Grindhouse>, <ID_8121:Be Kind Rewind>, <ID_4452:Das Experiment>, <ID_8091:30 Days of Night>, <ID_8144:I Am Legend>, <ID_7870:Smokin' Aces>, <ID_7947:Aqua Teen Hunger Force Colon Movie Film for Theaters>, <ID_3634:Erik the Viking>, <ID_7490:The Descent>, <ID_7975:Pirates of the Caribbean: At World's End>, <ID_7787:The Last King of Scotland>, <ID_6890:Ghost Dad>}}\n",
      "For case 11, the user's interactions are {{<ID_1056:Breaking the Waves>, <ID_513:Fargo>, <ID_899:La double vie de Véronique>, <ID_904:The English Patient>, <ID_1833:Festen>, <ID_267:The Shawshank Redemption>, <ID_501:The Silence of the Lambs>, <ID_2358:Dreaming of Joseph Lees>, <ID_631:Lone Star State of Mind>, <ID_1630:Grand Canyon>}}. The recommendation results are {{<ID_24:Leaving Las Vegas>, <ID_497:Aladdin>, <ID_6503:The Village>, <ID_320:Speed>, <ID_1994:Lock, Stock and Two Smoking Barrels>, <ID_2325:Fight Club>, <ID_217:Star Wars>, <ID_1247:L.A. Confidential>, <ID_294:Clear and Present Danger>, <ID_621:Independence Day>, <ID_1330:The Big Lebowski>, <ID_2243:American Beauty>, <ID_947:Raging Bull>, <ID_929:Star Wars: Episode VI - Return of the Jedi>, <ID_85:Broken Arrow>, <ID_4205:My Big Fat Greek Wedding>, <ID_987:Back to the Future>, <ID_918:Raiders of the Lost Ark>, <ID_4741:Catch Me If You Can>, <ID_3387:A Knight's Tale>, <ID_6188:Ugetsu monogatari>, <ID_9:GoldenEye>, <ID_3134:Wo hu cang long>, <ID_540:Mission: Impossible III>, <ID_383:The Firm>, <ID_6702:Camille>, <ID_5845:The Ladykillers>, <ID_2254:Excalibur>, <ID_3014:Air America>, <ID_5069:The Railway Children>, <ID_986:Arsenic and Old Lace>, <ID_453:Searching for Bobby Fischer>, <ID_5680:Cheaper by the Dozen>, <ID_824:Swingers>, <ID_1554:Saving Private Ryan>, <ID_1549:The Godfather: Part III>, <ID_916:Star Wars: Episode V - The Empire Strikes Back>, <ID_289:Ace Ventura: Pet Detective>, <ID_594:Twister>, <ID_2439:Fatal Attraction>, <ID_1050:Nosferatu, eine Symphonie des Grauens>, <ID_1041:Dracula>, <ID_1744:My Blue Heaven>, <ID_505:Pretty Woman>, <ID_3115:Charlie's Angels: Full Throttle>, <ID_1101:Scream>, <ID_5835:Mad Dog and Glory>, <ID_7040:Riding Giants>, <ID_3257:Fa yeung nin wa>, <ID_925:A Clockwork Orange>}}\n",
      "For case 12, the user's interactions are {{<ID_906:My Left Foot: The Story of Christy Brown>, <ID_6949:Ôdishon>, <ID_7010:Mar adentro>, <ID_7934:Grindhouse>}}. The recommendation results are {{<ID_982:Groundhog Day>, <ID_4327:Rabbit-Proof Fence>, <ID_7899:Next>, <ID_8131:Beowulf>, <ID_479:The Pagemaster>, <ID_8057:Planet Terror>, <ID_8157:The Kite Runner>, <ID_7791:The Prestige>, <ID_7737:The Wicker Man>, <ID_8079:Se, jie>, <ID_513:Fargo>, <ID_3286:The Unbelievable Truth>, <ID_7801:Flushed Away>, <ID_4747:The Pianist>, <ID_4126:The Long Riders>, <ID_6899:A Fei zheng chuan>, <ID_8189:Rambo>, <ID_7600:Thank You for Smoking>, <ID_5694:Osama>, <ID_6574:Murder on the Orient Express>, <ID_7818:The Holiday>, <ID_8164:There Will Be Blood>, <ID_713:Sunset Blvd.>, <ID_5890:Kill Bill: Vol. 2>, <ID_5883:Late Show with David Letterman>, <ID_8202:Jumper>, <ID_8091:30 Days of Night>, <ID_703:Casablanca>, <ID_5946:Le samouraï>, <ID_8121:Be Kind Rewind>, <ID_8449:Australia>, <ID_3015:Sleepaway Camp>, <ID_8005:1408>, <ID_2137:The Killing>, <ID_6640:Kinsey>, <ID_7664:Click>, <ID_7779:The Marine>, <ID_7604:Aquamarine>, <ID_2420:Mansfield Park>, <ID_1487:The Last Emperor>, <ID_7941:The Hoax>, <ID_7403:Cry_Wolf>, <ID_8090:Lars and the Real Girl>, <ID_8199:Teeth>, <ID_1912:At First Sight>, <ID_6916:Änglagård>, <ID_8165:Charlie Wilson's War>, <ID_7696:Monster House>, <ID_186:Clerks.>, <ID_7685:Little Miss Sunshine>}}\n",
      "For case 13, the user's interactions are {{<ID_2769:28 Days Later...>, <ID_3090:Meet the Parents>, <ID_2612:Ghost Dog: The Way of the Samurai>, <ID_2797:The Big Kahuna>}}. The recommendation results are {{<ID_3122:Diamonds Are Forever>, <ID_3008:Crush>, <ID_1338:Wag the Dog>, <ID_2193:Big>, <ID_2218:The 13th Warrior>, <ID_919:Brazil>, <ID_2668:Erin Brockovich>, <ID_2566:Howards End>, <ID_1829:Celebrity>, <ID_3439:Tootsie>, <ID_1288:Witness>, <ID_498:Terminator 2: Judgment Day>, <ID_2401:Dogma>, <ID_5901:Mean Girls>, <ID_198:Forget Paris>, <ID_154:The Net>, <ID_2100:Austin Powers: The Spy Who Shagged Me>, <ID_2752:Frequency>, <ID_3970:The Lord of the Rings: The Fellowship of the Ring>, <ID_2830:Mission: Impossible>, <ID_2416:Jeremiah Johnson>, <ID_896:The Cook the Thief His Wife & Her Lover>, <ID_365:Cliffhanger>, <ID_5023:The Matrix Reloaded>, <ID_2055:Wandâfuru raifu>, <ID_282:What's Eating Gilbert Grape>, <ID_29:Yao a yao yao dao waipo qiao>, <ID_1049:A Nightmare on Elm Street>, <ID_186:Clerks.>, <ID_1445:Buffalo '66>, <ID_855:Days of Thunder>, <ID_3324:Enemy at the Gates>, <ID_2730:High Fidelity>, <ID_2934:Shaft>, <ID_499:Dances with Wolves>, <ID_2826:Road Trip>, <ID_1991:Analyze This>, <ID_206:Heavenly Creatures>, <ID_1249:Kiss the Girls>, <ID_2609:The Next Best Thing>, <ID_2749:The Odd Couple>, <ID_1099:Beavis and Butt-Head Do America>, <ID_2184:And Now for Something Completely Different>, <ID_3161:Miss Congeniality>, <ID_1482:Kramer vs. Kramer>, <ID_3547:Coming to America>, <ID_7932:Blades of Glory>, <ID_3225:The Evil Dead>, <ID_320:Speed>, <ID_454:The Secret Garden>}}\n",
      "For case 14, the user's interactions are {{<ID_325:Wolf>, <ID_869:The Return of the Pink Panther>, <ID_2893:Mad Max>, <ID_208:Immortal Beloved>, <ID_849:The Doors>, <ID_7056:The Life Aquatic with Steve Zissou>, <ID_2070:Superman II>, <ID_2072:Superman IV: The Quest for Peace>, <ID_2333:Time Bandits>, <ID_2718:The Hustler>}}. The recommendation results are {{<ID_5558:Batoru rowaiaru>, <ID_6957:Gongdong gyeongbi guyeok JSA>, <ID_5153:The Incredible Hulk>, <ID_1339:Dark City>, <ID_2069:Superman>, <ID_4302:The Bourne Identity>, <ID_2500:Galaxy Quest>, <ID_404:What's Love Got to Do with It>, <ID_4512:The Grey Zone>, <ID_2586:Snow Day>, <ID_4360:Austin Powers in Goldmember>, <ID_320:Speed>, <ID_5023:The Matrix Reloaded>, <ID_4189:High Crimes>, <ID_1674:Rosemary's Baby>, <ID_1418:Godzilla>, <ID_6527:Without a Paddle>, <ID_5374:Boyz n the Hood>, <ID_1605:One Hundred and One Dalmatians>, <ID_2218:The 13th Warrior>, <ID_4705:Star Trek: Nemesis>, <ID_4110:The Time Machine>, <ID_3790:Training Day>, <ID_592:The Rock>, <ID_3053:The Watcher>, <ID_337:Mirage>, <ID_1524:The Exorcist>, <ID_1447:Lethal Weapon 4>, <ID_126:Beyond Rangoon>, <ID_4243:Hollywood Ending>, <ID_2193:Big>, <ID_1088:Mars Attacks!>, <ID_1865:Star Trek: Insurrection>, <ID_4395:Blue Crush>, <ID_5864:Dawn of the Dead>, <ID_760:Fly Away Home>, <ID_4077:Used Cars>, <ID_3327:Memento>, <ID_635:She's the One>, <ID_5051:Lo sceicco bianco>, <ID_2187:Airplane!>, <ID_370:Dave>, <ID_2974:X-Men>, <ID_2870:Eraserhead>, <ID_835:A Fish Called Wanda>, <ID_1474:West Side Story>, <ID_724:Father of the Bride>, <ID_5308:Wong Fei Hung ji saam: Si wong jaang ba>, <ID_919:Brazil>, <ID_2403:Pokémon: The First Movie>}}\n",
      "For case 15, the user's interactions are {{<ID_5610:Bullitt>, <ID_5727:High Sierra>, <ID_6000:Jason and the Argonauts>, <ID_1714:Saboteur>, <ID_1695:Marnie>}}. The recommendation results are {{<ID_720:Notorious>, <ID_3918:Funeral in Berlin>, <ID_443:Rising Sun>, <ID_6927:Major League II>, <ID_858:A Streetcar Named Desire>, <ID_6009:Guncrazy>, <ID_1527:Lethal Weapon>, <ID_5487:Father of the Bride>, <ID_6007:Kumonosu-jô>, <ID_310:The Mask>, <ID_2941:The Patriot>, <ID_2909:American Pimp>, <ID_5970:Le salaire de la peur>, <ID_5514:New Jack City>, <ID_622:Stealing Beauty>, <ID_7056:The Life Aquatic with Steve Zissou>, <ID_3054:The Way of the Gun>, <ID_1948:Payback>, <ID_1008:Indiana Jones and the Last Crusade>, <ID_2346:RoboCop>, <ID_619:Trainspotting>, <ID_1313:Good Will Hunting>, <ID_599:Wallace and Gromit in A Close Shave>, <ID_6175:August Rush>, <ID_562:Operation Dumbo Drop>, <ID_493:Caro diario>, <ID_4787:Final Destination 2>, <ID_53:Il postino>, <ID_4270:Star Wars: Episode II - Attack of the Clones>, <ID_3106:Billy Elliot>, <ID_4932:The Dream Catcher>, <ID_7002:Oldeuboi>, <ID_2448:Places in the Heart>, <ID_5200:The Secret Lives of Dentists>, <ID_6337:A Day at the Races>, <ID_7935:The Reaping>, <ID_1897:The Faculty>, <ID_2571:Lat sau san taam>, <ID_3874:Waking Life>, <ID_4019:Italiensk for begyndere>, <ID_1091:Raising Arizona>, <ID_5179:Seabiscuit>, <ID_289:Ace Ventura: Pet Detective>, <ID_7571:Imagine Me & You>, <ID_507:The Wild Bunch>, <ID_4006:Wuthering Heights>, <ID_4160:Serial>, <ID_3972:A Beautiful Mind>, <ID_3203:Amazing Grace and Chuck>, <ID_2559:Wayne's World>}}\n",
      "For case 16, the user's interactions are {{<ID_1088:Mars Attacks!>, <ID_3241:Jaws: The Revenge>, <ID_3115:Charlie's Angels: Full Throttle>, <ID_1390:He Got Game>, <ID_3727:Rush Hour 2>, <ID_6416:The Bourne Supremacy>, <ID_7475:Don't Be a Menace to South Central While Drinking Your Juice in the Hood>, <ID_3033:The Original Kings of Comedy>}}. The recommendation results are {{<ID_4199:Changing Lanes>, <ID_3260:Hannibal>, <ID_38:Clueless>, <ID_4269:About a Boy>, <ID_3396:Pearl Harbor>, <ID_3331:Spy Kids 2: Island of Lost Dreams>, <ID_1339:Dark City>, <ID_1452:There's Something About Mary>, <ID_1930:Der Name der Rose>, <ID_3986:Black Hawk Down>, <ID_3834:Grateful Dawg>, <ID_2871:The Boys of Baraka>, <ID_1:Jumanji>, <ID_6636:The Incredibles>, <ID_1101:Scream>, <ID_2870:Eraserhead>, <ID_1991:Analyze This>, <ID_3510:Legally Blonde>, <ID_5166:Bad Boys II>, <ID_3431:Point Break>, <ID_6600:Team America: World Police>, <ID_1330:The Big Lebowski>, <ID_3955:Vanilla Sky>, <ID_1240:The Hunt for Red October>, <ID_760:Fly Away Home>, <ID_7336:War of the Worlds>, <ID_125:Belle de jour>, <ID_4509:The Ring>, <ID_7250:Hawaii>, <ID_1325:The Horse Whisperer>, <ID_276:Star Trek: Generations>, <ID_5660:The Cooler>, <ID_307:The Lion King>, <ID_2668:Erin Brockovich>, <ID_878:Monty Python and the Holy Grail>, <ID_3678:Hedwig and the Angry Inch>, <ID_835:A Fish Called Wanda>, <ID_849:The Doors>, <ID_3953:Le fabuleux destin d'Amélie Poulain>, <ID_4950:Dreams>, <ID_933:Alien>, <ID_2089:Swamp Thing>, <ID_2790:The Virgin Suicides>, <ID_3355:Scarface>, <ID_920:Aliens>, <ID_2567:Singles>, <ID_3327:Memento>, <ID_1311:Flubber>, <ID_1576:Honey, I Shrunk the Kids>, <ID_5847:Scooby Doo 2: Monsters Unleashed>}}\n",
      "For case 17, the user's interactions are {{<ID_6593:I Heart Huckabees>, <ID_964:The Graduate>, <ID_1773:The Player>, <ID_1009:Being There>, <ID_5299:Lost in Translation>, <ID_2291:Ferris Bueller's Day Off>, <ID_824:Swingers>, <ID_5374:Boyz n the Hood>, <ID_831:Willy Wonka & the Chocolate Factory>}}. The recommendation results are {{<ID_916:Star Wars: Episode V - The Empire Strikes Back>, <ID_2058:Star Wars: Episode I - The Phantom Menace>, <ID_2082:The Rocky Horror Picture Show>, <ID_6504:Garden State>, <ID_6585:Hardcore>, <ID_7673:Who Killed the Electric Car?>, <ID_5929:Dobermann>, <ID_3393:Shrek>, <ID_3677:Ghost World>, <ID_4244:Spider-Man>, <ID_4588:Roger Dodger>, <ID_918:Raiders of the Lost Ark>, <ID_5170:Dirty Pretty Things>, <ID_5222:Open Range>, <ID_844:Dirty Dancing>, <ID_497:Aladdin>, <ID_540:Mission: Impossible III>, <ID_850:The Crying Game>, <ID_4741:Catch Me If You Can>, <ID_1014:Pink Floyd The Wall>, <ID_4270:Star Wars: Episode II - Attack of the Clones>, <ID_1495:The Breakfast Club>, <ID_594:Twister>, <ID_502:Snow White and the Seven Dwarfs>, <ID_152:Mute Witness>, <ID_2100:Austin Powers: The Spy Who Shagged Me>, <ID_987:Back to the Future>, <ID_1160:B*A*P*S>, <ID_1499:A Nightmare on Elm Street: The Dream Child>, <ID_34:Carrington>, <ID_3327:Memento>, <ID_325:Wolf>, <ID_929:Star Wars: Episode VI - Return of the Jedi>, <ID_3991:Monster's Ball>, <ID_234:Miracle on 34th Street>, <ID_307:The Lion King>, <ID_4146:Y tu mamá también>, <ID_1020:Butch Cassidy and the Sundance Kid>, <ID_3015:Sleepaway Camp>, <ID_993:Cool Hand Luke>, <ID_6416:The Bourne Supremacy>, <ID_2623:Birdy>, <ID_1633:Indiana Jones and the Temple of Doom>, <ID_1538:Back to the Future Part III>, <ID_6568:A Dirty Shame>, <ID_173:Waterworld>, <ID_9:GoldenEye>, <ID_2592:Pitch Black>, <ID_4066:Super Troopers>, <ID_85:Broken Arrow>}}\n",
      "For case 18, the user's interactions are {{<ID_4289:The Sum of All Fears>, <ID_3619:Bill & Ted's Excellent Adventure>, <ID_932:Goodfellas>, <ID_2502:Next Friday>, <ID_1355:The Wedding Singer>, <ID_2092:Notting Hill>, <ID_3090:Meet the Parents>, <ID_7516:The Chronicles of Narnia: The Lion, the Witch and the Wardrobe>, <ID_1758:A Few Good Men>, <ID_63:Friday>}}. The recommendation results are {{<ID_710:The Wizard of Oz>, <ID_3953:Le fabuleux destin d'Amélie Poulain>, <ID_3967:Jimmy Neutron: Boy Genius>, <ID_4139:Ice Age>, <ID_6294:Super Size Me>, <ID_1290:The Joy Luck Club>, <ID_4711:The Lord of the Rings: The Two Towers>, <ID_3959:The Royal Tenenbaums>, <ID_1450:Pi>, <ID_2974:X-Men>, <ID_136:Die Hard: With a Vengeance>, <ID_4395:Blue Crush>, <ID_5257:Enchanted>, <ID_2830:Mission: Impossible>, <ID_7519:The Family Stone>, <ID_5130:Charlie's Angels: Full Throttle>, <ID_919:Brazil>, <ID_849:The Doors>, <ID_837:Victor Victoria>, <ID_923:12 Angry Men>, <ID_3035:The Naked Gun: From the Files of Police Squad!>, <ID_2870:Eraserhead>, <ID_5023:The Matrix Reloaded>, <ID_805:Die Hard>, <ID_5558:Batoru rowaiaru>, <ID_4655:Personal Velocity: Three Portraits>, <ID_496:Ghost>, <ID_1338:Wag the Dog>, <ID_223:Legends of the Fall>, <ID_4189:High Crimes>, <ID_2392:Trading Places>, <ID_2416:Jeremiah Johnson>, <ID_3148:Snatch.>, <ID_6402:Maria Full of Grace>, <ID_4652:Die Another Day>, <ID_335:Street Fighter>, <ID_4302:The Bourne Identity>, <ID_154:The Net>, <ID_4957:Phone Booth>, <ID_4303:Scooby-Doo>, <ID_29:Yao a yao yao dao waipo qiao>, <ID_2401:Dogma>, <ID_3355:Scarface>, <ID_1260:The Ice Storm>, <ID_6241:Shrek 2>, <ID_2100:Austin Powers: The Spy Who Shagged Me>, <ID_3981:Separate Tables>, <ID_424:Much Ado About Nothing>, <ID_1085:Jaws>, <ID_3885:Monsters, Inc.>}}\n",
      "For case 19, the user's interactions are {{<ID_4003:China Moon>, <ID_2725:Jacob's Ladder>, <ID_3920:Dressed to Kill>, <ID_3632:Earth Girls Are Easy>, <ID_565:True Crime>, <ID_182:The Babysitters>, <ID_56:Eye for an Eye>, <ID_1690:Rope>, <ID_1468:Hamlet>, <ID_858:A Streetcar Named Desire>}}. The recommendation results are {{<ID_3203:Amazing Grace and Chuck>, <ID_3918:Funeral in Berlin>, <ID_5487:Father of the Bride>, <ID_7790:Children of Men>, <ID_1633:Indiana Jones and the Temple of Doom>, <ID_850:The Crying Game>, <ID_7664:Click>, <ID_715:2001: A Space Odyssey>, <ID_2940:Me, Myself & Irene>, <ID_6033:Zardoz>, <ID_5595:Jesus Christ Superstar>, <ID_7748:Idiocracy>, <ID_7617:Volver>, <ID_6218:Purple Rain>, <ID_3806:Montenegro>, <ID_1700:Strangers on a Train>, <ID_445:RoboCop 3>, <ID_3419:The Sand Pebbles>, <ID_3194:Foxy Brown>, <ID_5672:The Lord of the Rings: The Return of the King>, <ID_2378:The General>, <ID_4788:The Recruit>, <ID_1917:Howard the Duck>, <ID_3008:Crush>, <ID_2121:Conte d'automne>, <ID_6398:King Arthur>, <ID_496:Ghost>, <ID_1154:Crash>, <ID_1031:Amityville II: The Possession>, <ID_5687:Chasing Liberty>, <ID_6595:Taxi>, <ID_6505:Bakushû>, <ID_7386:The 40 Year Old Virgin>, <ID_1322:Titanic>, <ID_3161:Miss Congeniality>, <ID_310:The Mask>, <ID_4988:The Wiz>, <ID_6973:Dead End>, <ID_7345:Wedding Crashers>, <ID_941:Full Metal Jacket>, <ID_5273:The Handmaid's Tale>, <ID_7749:Jesus Camp>, <ID_599:Wallace and Gromit in A Close Shave>, <ID_5033:Finding Nemo>, <ID_3826:Don't Say a Word>, <ID_7868:Waitress>, <ID_7835:We Are Marshall>, <ID_5370:Babettes gæstebud>, <ID_2438:A River Runs Through It>, <ID_3592:Running on Empty>}}\n",
      "Do not output the detail analysis of specific items, and make high-level summarization JUST WITH PROVIDED CASES, e.g., 1. Ignore diversity in genres or series. For example, Although the user already owns this one, there would still be interest in same one, e.g., its the special version.\n"
     ]
    }
   ],
   "source": [
    "print(p)"
   ]
  },
  {
   "cell_type": "code",
   "execution_count": 34,
   "id": "3504e556-cf10-40b9-a6b7-9282867f34c8",
   "metadata": {},
   "outputs": [
    {
     "data": {
      "text/plain": [
       "17388"
      ]
     },
     "execution_count": 34,
     "metadata": {},
     "output_type": "execute_result"
    }
   ],
   "source": [
    "gt"
   ]
  },
  {
   "cell_type": "code",
   "execution_count": null,
   "id": "981c95d9-e318-45c1-8ac9-a683a5af8c0a",
   "metadata": {},
   "outputs": [],
   "source": []
  }
 ],
 "metadata": {
  "kernelspec": {
   "display_name": "Python 3 (ipykernel)",
   "language": "python",
   "name": "python3"
  },
  "language_info": {
   "codemirror_mode": {
    "name": "ipython",
    "version": 3
   },
   "file_extension": ".py",
   "mimetype": "text/x-python",
   "name": "python",
   "nbconvert_exporter": "python",
   "pygments_lexer": "ipython3",
   "version": "3.8.18"
  }
 },
 "nbformat": 4,
 "nbformat_minor": 5
}
